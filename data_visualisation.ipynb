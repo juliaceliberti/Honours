{
 "cells": [
  {
   "cell_type": "markdown",
   "metadata": {},
   "source": [
    "# Data Visualisation"
   ]
  },
  {
   "cell_type": "markdown",
   "metadata": {},
   "source": [
    "This notebook aims to explore the data retrived from ENCODE."
   ]
  },
  {
   "cell_type": "code",
   "execution_count": 2,
   "metadata": {},
   "outputs": [
    {
     "name": "stdout",
     "output_type": "stream",
     "text": [
      "  File accession   File format File type File format type  \\\n",
      "0    ENCFF690FNR     bed bed9+       bed            bed9+   \n",
      "1    ENCFF884UAE        bigWig    bigWig              NaN   \n",
      "2    ENCFF464CWC        bigWig    bigWig              NaN   \n",
      "3    ENCFF549SNG  bigBed bed9+    bigBed            bed9+   \n",
      "4    ENCFF840XVU     bed bed9+       bed            bed9+   \n",
      "\n",
      "                             Output type File assembly Experiment accession  \\\n",
      "0               methylation state at CpG        GRCh38          ENCSR786DCL   \n",
      "1   plus strand methylation state at CpG        GRCh38          ENCSR786DCL   \n",
      "2  minus strand methylation state at CpG        GRCh38          ENCSR786DCL   \n",
      "3               methylation state at CpG        GRCh38          ENCSR786DCL   \n",
      "4               methylation state at CpG        GRCh38          ENCSR625HZA   \n",
      "\n",
      "  Assay                    Donor(s) Biosample term id  ... Platform  \\\n",
      "0  WGBS  /human-donors/ENCDO000AAC/       EFO:0001187  ...      NaN   \n",
      "1  WGBS  /human-donors/ENCDO000AAC/       EFO:0001187  ...      NaN   \n",
      "2  WGBS  /human-donors/ENCDO000AAC/       EFO:0001187  ...      NaN   \n",
      "3  WGBS  /human-donors/ENCDO000AAC/       EFO:0001187  ...      NaN   \n",
      "4  WGBS  /human-donors/ENCDO336AAA/       EFO:0005723  ...      NaN   \n",
      "\n",
      "  Controlled by File Status  \\\n",
      "0           NaN    released   \n",
      "1           NaN    released   \n",
      "2           NaN    released   \n",
      "3           NaN    released   \n",
      "4           NaN    released   \n",
      "\n",
      "                                              s3_uri  \\\n",
      "0  s3://encode-public/2021/07/17/dccc66ef-985f-4e...   \n",
      "1  s3://encode-public/2021/07/17/8407f321-a9f9-4d...   \n",
      "2  s3://encode-public/2021/07/17/b72fba8b-4ccf-47...   \n",
      "3  s3://encode-public/2021/07/17/6aff99be-3685-4a...   \n",
      "4  s3://encode-public/2021/07/20/bfc10eed-ce81-48...   \n",
      "\n",
      "                                           Azure URL    File analysis title  \\\n",
      "0  https://datasetencode.blob.core.windows.net/da...  ENCODE4 v1.1.6 GRCh38   \n",
      "1  https://datasetencode.blob.core.windows.net/da...  ENCODE4 v1.1.6 GRCh38   \n",
      "2  https://datasetencode.blob.core.windows.net/da...  ENCODE4 v1.1.6 GRCh38   \n",
      "3  https://datasetencode.blob.core.windows.net/da...  ENCODE4 v1.1.6 GRCh38   \n",
      "4  https://datasetencode.blob.core.windows.net/da...  ENCODE4 v1.1.6 GRCh38   \n",
      "\n",
      "   File analysis status                 Audit WARNING  Audit NOT_COMPLIANT  \\\n",
      "0              released  low lambda C conversion rate                  NaN   \n",
      "1              released  low lambda C conversion rate                  NaN   \n",
      "2              released  low lambda C conversion rate                  NaN   \n",
      "3              released  low lambda C conversion rate                  NaN   \n",
      "4              released  low lambda C conversion rate                  NaN   \n",
      "\n",
      "                        Audit ERROR  \n",
      "0                               NaN  \n",
      "1                               NaN  \n",
      "2                               NaN  \n",
      "3                               NaN  \n",
      "4  missing lambda C conversion rate  \n",
      "\n",
      "[5 rows x 59 columns]\n"
     ]
    }
   ],
   "source": [
    "# loading the data\n",
    "import pandas as pd\n",
    "\n",
    "# Replace 'metadata.tsv' with the path to your TSV metadata file\n",
    "metadata_df = pd.read_csv('HepG2_data/HepG2_DNAm/metadata.tsv', sep='\\t')\n",
    "print(metadata_df.head())\n"
   ]
  },
  {
   "cell_type": "code",
   "execution_count": 7,
   "metadata": {},
   "outputs": [],
   "source": [
    "import pyBigWig\n",
    "import pybedtools\n",
    "\n",
    "# For .bigWig files\n",
    "with pyBigWig.open('HepG2_DNAm/ENCFF143QGY.bigWig') as bw:\n",
    "    # Access signal values for a specific region, e.g., the start of chromosome 1\n",
    "    signal_values = bw.values('chr1', 0, 1000000)\n",
    "\n",
    "\n",
    "bed_df = pd.read_csv('data.bed', sep='\\t', header=None)\n",
    "bedgraph_df = pd.read_csv('data.bedGraph', sep='\\t', header=None)\n",
    "tsv_df = pd.read_csv('metadata.tsv', sep='\\t', header=0)\n",
    "\n"
   ]
  },
  {
   "cell_type": "code",
   "execution_count": null,
   "metadata": {},
   "outputs": [],
   "source": [
    "# For .bigBed files\n",
    "bb = pybedtools.BedTool('HepG2_DNAm/ENCFF549SNG.bigBed')\n",
    "for feature in bb:\n",
    "    # process feature, which is an interval in the BED file\n",
    "    print(feature)"
   ]
  },
  {
   "cell_type": "code",
   "execution_count": 4,
   "metadata": {},
   "outputs": [
    {
     "name": "stdout",
     "output_type": "stream",
     "text": [
      "/home/julia_celiberti/miniconda3/envs/honours/bin/python\n"
     ]
    }
   ],
   "source": [
    "import sys\n",
    "print(sys.executable)\n"
   ]
  }
 ],
 "metadata": {
  "kernelspec": {
   "display_name": "honours",
   "language": "python",
   "name": "python3"
  },
  "language_info": {
   "codemirror_mode": {
    "name": "ipython",
    "version": 3
   },
   "file_extension": ".py",
   "mimetype": "text/x-python",
   "name": "python",
   "nbconvert_exporter": "python",
   "pygments_lexer": "ipython3",
   "version": "3.8.19"
  }
 },
 "nbformat": 4,
 "nbformat_minor": 2
}
