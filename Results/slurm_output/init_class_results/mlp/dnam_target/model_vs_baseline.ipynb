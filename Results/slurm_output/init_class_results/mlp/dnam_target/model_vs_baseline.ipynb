{
 "cells": [
  {
   "cell_type": "markdown",
   "metadata": {},
   "source": [
    "# Comparing model against baseline"
   ]
  },
  {
   "cell_type": "code",
   "execution_count": 5,
   "metadata": {},
   "outputs": [],
   "source": [
    "# load data\n",
    "import numpy as np\n",
    "import pandas as pd\n",
    "gene_matrix_array = np.load(\"../../../../../modelling/init_model/gene_matrix_list.npy\")\n",
    "rna_expression_df = pd.read_csv(\"../../../../../modelling/init_model/rna_expression_list.csv\")\n",
    "\n",
    "#C:\\Users\\julia\\OneDrive\\Documents\\Honours2024\\Honours\\Results\\slurm_output\\init_class_results\\mlp\\dnam_target\\model_vs_baseline.ipynb\n",
    "#C:\\Users\\julia\\OneDrive\\Documents\\Honours2024\\Honours\\modelling\\init_model\\gene_matrix_list.npy"
   ]
  },
  {
   "cell_type": "code",
   "execution_count": 6,
   "metadata": {},
   "outputs": [],
   "source": [
    "# separate out features\n",
    "dnam_features = gene_matrix_array[:, :, 0]\n",
    "h3k9me3_features = gene_matrix_array[:, :, 1]\n",
    "h3k27me3_features = gene_matrix_array[:, :, 2]\n",
    "rna_expression = (rna_expression_df[\"expression\"].values > 0).astype(\n",
    "    int\n",
    ")  # Convert expression to binary\n",
    "expression_values = rna_expression.reshape(-1, 1)  # Shape (58780, 1)"
   ]
  },
  {
   "cell_type": "code",
   "execution_count": 7,
   "metadata": {},
   "outputs": [],
   "source": [
    "# get y\n",
    "# Set DNA methylation as target - altering y to become a count of 1s in each 4000 length array\n",
    "\n",
    "from sklearn.model_selection import train_test_split\n",
    "from sklearn.metrics import mean_squared_error\n",
    "\n",
    "X_histone = np.concatenate(\n",
    "    (h3k9me3_features, h3k27me3_features), axis=1\n",
    ")  # Shape (58780, 8000)\n",
    "rna_expression = (rna_expression_df[\"expression\"].values > 0).astype(int)\n",
    "X_expression = rna_expression.reshape(-1, 1)  # Shape (58780, 1)\n",
    "X = np.concatenate((X_histone, X_expression), axis=1)\n",
    "\n",
    "## y is set to DNAm\n",
    "y = np.sum(dnam_features, axis=1)  # Shape (58780,)\n",
    "\n",
    "X_train, X_test, y_train, y_test = train_test_split(\n",
    "    X, y, test_size=0.2, random_state=42\n",
    ")    "
   ]
  },
  {
   "cell_type": "code",
   "execution_count": 8,
   "metadata": {},
   "outputs": [],
   "source": [
    "import numpy as np\n",
    "\n",
    "y_train_mean = np.mean(y_train)  \n",
    "y_baseline_pred = np.full_like(y_test, y_train_mean)  \n",
    "from sklearn.metrics import mean_squared_error\n",
    "\n",
    "baseline_mse = mean_squared_error(y_test, y_baseline_pred)\n",
    "\n"
   ]
  },
  {
   "cell_type": "code",
   "execution_count": 14,
   "metadata": {},
   "outputs": [],
   "source": [
    "def compare_mse(model_mse, baseline_mse):\n",
    "    print(f\"Baseline MSE: {baseline_mse}\")\n",
    "    print(f\"Model MSE: {model_mse}\")\n",
    "\n",
    "    percentage_improvement = ((baseline_mse - model_mse) / baseline_mse) * 100\n",
    "\n",
    "    print(\"Improvement on baseline: \",percentage_improvement )\n",
    "    return percentage_improvement"
   ]
  },
  {
   "cell_type": "code",
   "execution_count": 15,
   "metadata": {},
   "outputs": [
    {
     "name": "stdout",
     "output_type": "stream",
     "text": [
      "Baseline MSE: 10319.948376161663\n",
      "Model MSE: 7425.3827\n",
      "Improvement on baseline:  28.04825732314612\n"
     ]
    },
    {
     "data": {
      "text/plain": [
       "28.04825732314612"
      ]
     },
     "execution_count": 15,
     "metadata": {},
     "output_type": "execute_result"
    }
   ],
   "source": [
    "#MLP improvement\n",
    "mlp_mse = 7425.3827  \n",
    "compare_mse(mlp_mse, baseline_mse)"
   ]
  },
  {
   "cell_type": "code",
   "execution_count": 16,
   "metadata": {},
   "outputs": [
    {
     "name": "stdout",
     "output_type": "stream",
     "text": [
      "Baseline MSE: 10319.948376161663\n",
      "Model MSE: 6581.119\n",
      "Improvement on baseline:  36.2291480526985\n"
     ]
    },
    {
     "data": {
      "text/plain": [
       "36.2291480526985"
      ]
     },
     "execution_count": 16,
     "metadata": {},
     "output_type": "execute_result"
    }
   ],
   "source": [
    "# LGBM improvement\n",
    "lgbm_mse = 6581.1190   \n",
    "compare_mse(lgbm_mse, baseline_mse)"
   ]
  },
  {
   "cell_type": "code",
   "execution_count": 19,
   "metadata": {},
   "outputs": [
    {
     "name": "stdout",
     "output_type": "stream",
     "text": [
      "Baseline MSE: 10319.948376161663\n",
      "Model MSE: 6689.758\n",
      "Improvement on baseline:  35.176439298350964\n"
     ]
    },
    {
     "data": {
      "text/plain": [
       "35.176439298350964"
      ]
     },
     "execution_count": 19,
     "metadata": {},
     "output_type": "execute_result"
    }
   ],
   "source": [
    "# XGBoost improvement\n",
    "xgb_mse = 6689.7580\n",
    "compare_mse(xgb_mse, baseline_mse)"
   ]
  },
  {
   "cell_type": "code",
   "execution_count": 18,
   "metadata": {},
   "outputs": [
    {
     "name": "stdout",
     "output_type": "stream",
     "text": [
      "Baseline MSE: 10319.948376161663\n",
      "Model MSE: 7097.761\n",
      "Improvement on baseline:  31.222902079672053\n"
     ]
    },
    {
     "data": {
      "text/plain": [
       "31.222902079672053"
      ]
     },
     "execution_count": 18,
     "metadata": {},
     "output_type": "execute_result"
    }
   ],
   "source": [
    "# RF improvement\n",
    "rf_mse = 7097.761\n",
    "compare_mse(rf_mse, baseline_mse)"
   ]
  }
 ],
 "metadata": {
  "kernelspec": {
   "display_name": "Python 3",
   "language": "python",
   "name": "python3"
  },
  "language_info": {
   "codemirror_mode": {
    "name": "ipython",
    "version": 3
   },
   "file_extension": ".py",
   "mimetype": "text/x-python",
   "name": "python",
   "nbconvert_exporter": "python",
   "pygments_lexer": "ipython3",
   "version": "3.11.2"
  }
 },
 "nbformat": 4,
 "nbformat_minor": 2
}
